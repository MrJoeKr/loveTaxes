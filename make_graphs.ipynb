{
 "cells": [
  {
   "attachments": {},
   "cell_type": "markdown",
   "metadata": {},
   "source": [
    "# Notebook for making graphs of the modelling results"
   ]
  },
  {
   "attachments": {},
   "cell_type": "markdown",
   "metadata": {},
   "source": [
    "### Imports"
   ]
  },
  {
   "cell_type": "code",
   "execution_count": 1,
   "metadata": {},
   "outputs": [],
   "source": [
    "import pandas as pd\n",
    "import numpy as np\n",
    "import matplotlib.pyplot as plt\n",
    "import seaborn as sns"
   ]
  },
  {
   "cell_type": "code",
   "execution_count": 11,
   "metadata": {},
   "outputs": [],
   "source": [
    "from typing import List\n",
    "\n",
    "\n",
    "def process_netlogo_experiment_csv(\n",
    "    filename: str, delete_rows: bool = True\n",
    ") -> pd.DataFrame:\n",
    "\n",
    "    if delete_rows:\n",
    "        delete_redundant_rows(filename)\n",
    "\n",
    "    df = pd.read_csv(filename, header=None, skiprows=6, nrows=12)\n",
    "\n",
    "    df = df.transpose()\n",
    "\n",
    "    # Set the header row as the df header\n",
    "    df.columns = df.iloc[0]\n",
    "\n",
    "    # Drop the first row\n",
    "    df = df[1:]\n",
    "\n",
    "    # Reset the index\n",
    "    df = df.reset_index(drop=True)\n",
    "\n",
    "    return df\n",
    "\n",
    "\n",
    "def delete_redundant_rows(filename: str) -> None:\n",
    "    \"\"\"\n",
    "    Delete the rows of the file that are not needed for the analysis\n",
    "    \"\"\"\n",
    "    lines: List[str] = []\n",
    "    with open(filename, \"r\") as f:\n",
    "        lines = f.readlines()\n",
    "\n",
    "        # Delete all lines after the 18th line\n",
    "        del lines[19:]\n",
    "\n",
    "    with open(filename, \"w\") as f:\n",
    "        f.writelines(lines)"
   ]
  },
  {
   "attachments": {},
   "cell_type": "markdown",
   "metadata": {},
   "source": [
    "### Charity experiment\n",
    "\n",
    "In this experiment we test the effect of the charity parameter on the amount of poor people in the population."
   ]
  },
  {
   "cell_type": "code",
   "execution_count": 23,
   "metadata": {},
   "outputs": [
    {
     "ename": "FileNotFoundError",
     "evalue": "[Errno 2] No such file or directory: 'data/charity_experiment_1_to_100.csv'",
     "output_type": "error",
     "traceback": [
      "\u001b[0;31m---------------------------------------------------------------------------\u001b[0m",
      "\u001b[0;31mFileNotFoundError\u001b[0m                         Traceback (most recent call last)",
      "Cell \u001b[0;32mIn[23], line 1\u001b[0m\n\u001b[0;32m----> 1\u001b[0m charity_data \u001b[39m=\u001b[39m process_netlogo_experiment_csv(\u001b[39m\"\u001b[39;49m\u001b[39mdata/charity_experiment_1_to_100.csv\u001b[39;49m\u001b[39m\"\u001b[39;49m)\n\u001b[1;32m      3\u001b[0m \u001b[39m# Convert mean column to float\u001b[39;00m\n\u001b[1;32m      4\u001b[0m charity_data[\u001b[39m'\u001b[39m\u001b[39m[mean]\u001b[39m\u001b[39m'\u001b[39m] \u001b[39m=\u001b[39m charity_data[\u001b[39m'\u001b[39m\u001b[39m[mean]\u001b[39m\u001b[39m'\u001b[39m]\u001b[39m.\u001b[39mastype(\u001b[39mfloat\u001b[39m)\n",
      "Cell \u001b[0;32mIn[11], line 5\u001b[0m, in \u001b[0;36mprocess_netlogo_experiment_csv\u001b[0;34m(filename)\u001b[0m\n\u001b[1;32m      4\u001b[0m \u001b[39mdef\u001b[39;00m \u001b[39mprocess_netlogo_experiment_csv\u001b[39m(filename: \u001b[39mstr\u001b[39m) \u001b[39m-\u001b[39m\u001b[39m>\u001b[39m pd\u001b[39m.\u001b[39mDataFrame:\n\u001b[0;32m----> 5\u001b[0m     delete_redundant_rows(filename)\n\u001b[1;32m      7\u001b[0m     df \u001b[39m=\u001b[39m pd\u001b[39m.\u001b[39mread_csv(filename, header\u001b[39m=\u001b[39m\u001b[39mNone\u001b[39;00m, skiprows\u001b[39m=\u001b[39m\u001b[39m6\u001b[39m, nrows\u001b[39m=\u001b[39m\u001b[39m12\u001b[39m)\n\u001b[1;32m      9\u001b[0m     df \u001b[39m=\u001b[39m df\u001b[39m.\u001b[39mtranspose()\n",
      "Cell \u001b[0;32mIn[11], line 28\u001b[0m, in \u001b[0;36mdelete_redundant_rows\u001b[0;34m(filename)\u001b[0m\n\u001b[1;32m     24\u001b[0m \u001b[39m\u001b[39m\u001b[39m\"\"\"\u001b[39;00m\n\u001b[1;32m     25\u001b[0m \u001b[39mDelete the rows of the file that are not needed for the analysis\u001b[39;00m\n\u001b[1;32m     26\u001b[0m \u001b[39m\"\"\"\u001b[39;00m\n\u001b[1;32m     27\u001b[0m lines: List[\u001b[39mstr\u001b[39m] \u001b[39m=\u001b[39m []\n\u001b[0;32m---> 28\u001b[0m \u001b[39mwith\u001b[39;00m \u001b[39mopen\u001b[39;49m(filename, \u001b[39m\"\u001b[39;49m\u001b[39mr\u001b[39;49m\u001b[39m\"\u001b[39;49m) \u001b[39mas\u001b[39;00m f:\n\u001b[1;32m     29\u001b[0m     lines \u001b[39m=\u001b[39m f\u001b[39m.\u001b[39mreadlines()\n\u001b[1;32m     31\u001b[0m     \u001b[39m# Delete all lines after the 18th line\u001b[39;00m\n",
      "File \u001b[0;32m~/.local/lib/python3.10/site-packages/IPython/core/interactiveshell.py:284\u001b[0m, in \u001b[0;36m_modified_open\u001b[0;34m(file, *args, **kwargs)\u001b[0m\n\u001b[1;32m    277\u001b[0m \u001b[39mif\u001b[39;00m file \u001b[39min\u001b[39;00m {\u001b[39m0\u001b[39m, \u001b[39m1\u001b[39m, \u001b[39m2\u001b[39m}:\n\u001b[1;32m    278\u001b[0m     \u001b[39mraise\u001b[39;00m \u001b[39mValueError\u001b[39;00m(\n\u001b[1;32m    279\u001b[0m         \u001b[39mf\u001b[39m\u001b[39m\"\u001b[39m\u001b[39mIPython won\u001b[39m\u001b[39m'\u001b[39m\u001b[39mt let you open fd=\u001b[39m\u001b[39m{\u001b[39;00mfile\u001b[39m}\u001b[39;00m\u001b[39m by default \u001b[39m\u001b[39m\"\u001b[39m\n\u001b[1;32m    280\u001b[0m         \u001b[39m\"\u001b[39m\u001b[39mas it is likely to crash IPython. If you know what you are doing, \u001b[39m\u001b[39m\"\u001b[39m\n\u001b[1;32m    281\u001b[0m         \u001b[39m\"\u001b[39m\u001b[39myou can use builtins\u001b[39m\u001b[39m'\u001b[39m\u001b[39m open.\u001b[39m\u001b[39m\"\u001b[39m\n\u001b[1;32m    282\u001b[0m     )\n\u001b[0;32m--> 284\u001b[0m \u001b[39mreturn\u001b[39;00m io_open(file, \u001b[39m*\u001b[39;49margs, \u001b[39m*\u001b[39;49m\u001b[39m*\u001b[39;49mkwargs)\n",
      "\u001b[0;31mFileNotFoundError\u001b[0m: [Errno 2] No such file or directory: 'data/charity_experiment_1_to_100.csv'"
     ]
    }
   ],
   "source": [
    "charity_data = process_netlogo_experiment_csv(\"data/charity_experiment_0_to_100.csv\")\n",
    "\n",
    "# Convert mean column to float\n",
    "charity_data['[mean]'] = charity_data['[mean]'].astype(float)\n",
    "\n",
    "charity_data['charity'] = charity_data['charity'].astype(int)\n",
    "\n",
    "print(charity_data.shape)\n",
    "charity_data.head()"
   ]
  },
  {
   "attachments": {},
   "cell_type": "markdown",
   "metadata": {},
   "source": [
    "Plot the average amount of poor people in the population for different values of the charity parameter.\n",
    "Averaged over 5 runs."
   ]
  },
  {
   "cell_type": "code",
   "execution_count": 22,
   "metadata": {},
   "outputs": [
    {
     "data": {
      "image/png": "[encoded data removed]",
      "text/plain": [
       "<Figure size 640x480 with 1 Axes>"
      ]
     },
     "metadata": {},
     "output_type": "display_data"
    }
   ],
   "source": [
    "# Group rows by the \"charity\" parameter and calculate the mean of the \"mean\" column\n",
    "grouped_data = charity_data.groupby('charity')['[mean]'].mean()\n",
    "\n",
    "# print(grouped_data)\n",
    "\n",
    "# Plot the grouped data\n",
    "sns.set()\n",
    "\n",
    "ax = sns.barplot(x=grouped_data.index, y=grouped_data.values)\n",
    "\n",
    "ax.set(xlabel='Charity value (%)', ylabel='Average people under poverty limit') \n",
    "# Show less number on the x-axis\n",
    "ax.xaxis.set_major_locator(plt.MaxNLocator(5))\n"
   ]
  },
  {
   "attachments": {},
   "cell_type": "markdown",
   "metadata": {},
   "source": [
    "We can clearly see that around 3 percent of charity looks like the optimal value.\n",
    "Let's explore depper around this value.\n"
   ]
  },
  {
   "cell_type": "code",
   "execution_count": null,
   "metadata": {},
   "outputs": [],
   "source": []
  }
 ],
 "metadata": {
  "kernelspec": {
   "display_name": "Python 3",
   "language": "python",
   "name": "python3"
  },
  "language_info": {
   "codemirror_mode": {
    "name": "ipython",
    "version": 3
   },
   "file_extension": ".py",
   "mimetype": "text/x-python",
   "name": "python",
   "nbconvert_exporter": "python",
   "pygments_lexer": "ipython3",
   "version": "3.10.6"
  },
  "orig_nbformat": 4
 },
 "nbformat": 4,
 "nbformat_minor": 2
}
