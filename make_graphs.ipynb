{
 "cells": [
  {
   "attachments": {},
   "cell_type": "markdown",
   "metadata": {},
   "source": [
    "# Notebook for making graphs of the modelling results"
   ]
  },
  {
   "attachments": {},
   "cell_type": "markdown",
   "metadata": {},
   "source": [
    "### Imports"
   ]
  },
  {
   "cell_type": "code",
   "execution_count": 1,
   "metadata": {},
   "outputs": [],
   "source": [
    "import pandas as pd\n",
    "import numpy as np\n",
    "import matplotlib.pyplot as plt\n",
    "import seaborn as sns"
   ]
  },
  {
   "cell_type": "code",
   "execution_count": 11,
   "metadata": {},
   "outputs": [],
   "source": [
    "from typing import List\n",
    "\n",
    "\n",
    "def process_netlogo_experiment_csv(\n",
    "    filename: str, delete_rows: bool = True\n",
    ") -> pd.DataFrame:\n",
    "\n",
    "    if delete_rows:\n",
    "        delete_redundant_rows(filename)\n",
    "\n",
    "    df = pd.read_csv(filename, header=None, skiprows=6, nrows=12)\n",
    "\n",
    "    df = df.transpose()\n",
    "\n",
    "    # Set the header row as the df header\n",
    "    df.columns = df.iloc[0]\n",
    "\n",
    "    # Drop the first row\n",
    "    df = df[1:]\n",
    "\n",
    "    # Reset the index\n",
    "    df = df.reset_index(drop=True)\n",
    "\n",
    "    return df\n",
    "\n",
    "\n",
    "def delete_redundant_rows(filename: str) -> None:\n",
    "    \"\"\"\n",
    "    Delete the rows of the file that are not needed for the analysis\n",
    "    \"\"\"\n",
    "    lines: List[str] = []\n",
    "    with open(filename, \"r\") as f:\n",
    "        lines = f.readlines()\n",
    "\n",
    "        # Delete all lines after the 18th line\n",
    "        del lines[19:]\n",
    "\n",
    "    with open(filename, \"w\") as f:\n",
    "        f.writelines(lines)"
   ]
  },
  {
   "attachments": {},
   "cell_type": "markdown",
   "metadata": {},
   "source": [
    "### Charity experiment\n",
    "\n",
    "In this experiment we test the effect of the charity parameter on the amount of poor people in the population."
   ]
  },
  {
   "cell_type": "code",
   "execution_count": 24,
   "metadata": {},
   "outputs": [
    {
     "name": "stdout",
     "output_type": "stream",
     "text": [
      "(505, 12)\n"
     ]
    },
    {
     "data": {
      "text/html": [
       "<div>\n",
       "<style scoped>\n",
       "    .dataframe tbody tr th:only-of-type {\n",
       "        vertical-align: middle;\n",
       "    }\n",
       "\n",
       "    .dataframe tbody tr th {\n",
       "        vertical-align: top;\n",
       "    }\n",
       "\n",
       "    .dataframe thead th {\n",
       "        text-align: right;\n",
       "    }\n",
       "</style>\n",
       "<table border=\"1\" class=\"dataframe\">\n",
       "  <thead>\n",
       "    <tr style=\"text-align: right;\">\n",
       "      <th></th>\n",
       "      <th>[run number]</th>\n",
       "      <th>lower-tax</th>\n",
       "      <th>percent-best-land</th>\n",
       "      <th>charity</th>\n",
       "      <th>upper-tax</th>\n",
       "      <th>num-people</th>\n",
       "      <th>[reporter]</th>\n",
       "      <th>[final]</th>\n",
       "      <th>[min]</th>\n",
       "      <th>[max]</th>\n",
       "      <th>[mean]</th>\n",
       "      <th>[steps]</th>\n",
       "    </tr>\n",
       "  </thead>\n",
       "  <tbody>\n",
       "    <tr>\n",
       "      <th>0</th>\n",
       "      <td>1</td>\n",
       "      <td>0</td>\n",
       "      <td>16</td>\n",
       "      <td>0</td>\n",
       "      <td>0</td>\n",
       "      <td>250</td>\n",
       "      <td>count-below-poverty</td>\n",
       "      <td>4</td>\n",
       "      <td>0</td>\n",
       "      <td>11</td>\n",
       "      <td>5.653069</td>\n",
       "      <td>5000</td>\n",
       "    </tr>\n",
       "    <tr>\n",
       "      <th>1</th>\n",
       "      <td>2</td>\n",
       "      <td>0</td>\n",
       "      <td>16</td>\n",
       "      <td>0</td>\n",
       "      <td>0</td>\n",
       "      <td>250</td>\n",
       "      <td>count-below-poverty</td>\n",
       "      <td>2</td>\n",
       "      <td>0</td>\n",
       "      <td>10</td>\n",
       "      <td>3.711858</td>\n",
       "      <td>5000</td>\n",
       "    </tr>\n",
       "    <tr>\n",
       "      <th>2</th>\n",
       "      <td>3</td>\n",
       "      <td>0</td>\n",
       "      <td>16</td>\n",
       "      <td>0</td>\n",
       "      <td>0</td>\n",
       "      <td>250</td>\n",
       "      <td>count-below-poverty</td>\n",
       "      <td>2</td>\n",
       "      <td>0</td>\n",
       "      <td>6</td>\n",
       "      <td>2.076385</td>\n",
       "      <td>5000</td>\n",
       "    </tr>\n",
       "    <tr>\n",
       "      <th>3</th>\n",
       "      <td>4</td>\n",
       "      <td>0</td>\n",
       "      <td>16</td>\n",
       "      <td>0</td>\n",
       "      <td>0</td>\n",
       "      <td>250</td>\n",
       "      <td>count-below-poverty</td>\n",
       "      <td>2</td>\n",
       "      <td>0</td>\n",
       "      <td>8</td>\n",
       "      <td>3.596281</td>\n",
       "      <td>5000</td>\n",
       "    </tr>\n",
       "    <tr>\n",
       "      <th>4</th>\n",
       "      <td>5</td>\n",
       "      <td>0</td>\n",
       "      <td>16</td>\n",
       "      <td>0</td>\n",
       "      <td>0</td>\n",
       "      <td>250</td>\n",
       "      <td>count-below-poverty</td>\n",
       "      <td>1</td>\n",
       "      <td>0</td>\n",
       "      <td>8</td>\n",
       "      <td>4.564887</td>\n",
       "      <td>5000</td>\n",
       "    </tr>\n",
       "  </tbody>\n",
       "</table>\n",
       "</div>"
      ],
      "text/plain": [
       "0 [run number] lower-tax percent-best-land  charity upper-tax num-people   \n",
       "0            1         0                16        0         0        250  \\\n",
       "1            2         0                16        0         0        250   \n",
       "2            3         0                16        0         0        250   \n",
       "3            4         0                16        0         0        250   \n",
       "4            5         0                16        0         0        250   \n",
       "\n",
       "0           [reporter] [final] [min] [max]    [mean] [steps]  \n",
       "0  count-below-poverty       4     0    11  5.653069    5000  \n",
       "1  count-below-poverty       2     0    10  3.711858    5000  \n",
       "2  count-below-poverty       2     0     6  2.076385    5000  \n",
       "3  count-below-poverty       2     0     8  3.596281    5000  \n",
       "4  count-below-poverty       1     0     8  4.564887    5000  "
      ]
     },
     "execution_count": 24,
     "metadata": {},
     "output_type": "execute_result"
    }
   ],
   "source": [
    "charity_data = process_netlogo_experiment_csv(\"data/charity_experiment_0_to_100.csv\")\n",
    "\n",
    "# Convert mean column to float\n",
    "charity_data['[mean]'] = charity_data['[mean]'].astype(float)\n",
    "\n",
    "charity_data['charity'] = charity_data['charity'].astype(int)\n",
    "\n",
    "print(charity_data.shape)\n",
    "charity_data.head()"
   ]
  },
  {
   "attachments": {},
   "cell_type": "markdown",
   "metadata": {},
   "source": [
    "We now plot the average amount of poor people in the population for different values of the charity parameter.\n",
    "\n",
    "Averaged over 5 runs, each run ended at 5000 ticks."
   ]
  },
  {
   "cell_type": "code",
   "execution_count": 22,
   "metadata": {},
   "outputs": [
    {
     "data": {
      "image/png": "[encoded data removed]",
      "text/plain": [
       "<Figure size 640x480 with 1 Axes>"
      ]
     },
     "metadata": {},
     "output_type": "display_data"
    }
   ],
   "source": [
    "# Group rows by the \"charity\" parameter and calculate the mean of the \"mean\" column\n",
    "grouped_data = charity_data.groupby('charity')['[mean]'].mean()\n",
    "\n",
    "# print(grouped_data)\n",
    "\n",
    "# Plot the grouped data\n",
    "sns.set()\n",
    "\n",
    "ax = sns.barplot(x=grouped_data.index, y=grouped_data.values)\n",
    "\n",
    "ax.set(xlabel='Charity value (%)', ylabel='Average people under poverty limit') \n",
    "# Show less number on the x-axis\n",
    "ax.xaxis.set_major_locator(plt.MaxNLocator(5))\n"
   ]
  },
  {
   "attachments": {},
   "cell_type": "markdown",
   "metadata": {},
   "source": [
    "We can clearly see that around 3 percent of the charity it looks like the optimal value.\n",
    "\n",
    "Let's explore depper around this value.\n",
    "\n",
    "We now plot the average amount of poor people with charity parameter from range 0.0 to 8.0 with step 0.1.\n",
    "Maximum amount of ticks is 5000."
   ]
  },
  {
   "cell_type": "code",
   "execution_count": 28,
   "metadata": {},
   "outputs": [
    {
     "name": "stdout",
     "output_type": "stream",
     "text": [
      "(405, 12)\n"
     ]
    },
    {
     "data": {
      "image/png": "[encoded data removed]",
      "text/plain": [
       "<Figure size 640x480 with 1 Axes>"
      ]
     },
     "metadata": {},
     "output_type": "display_data"
    }
   ],
   "source": [
    "charity_data = process_netlogo_experiment_csv(\"data/charity_experiment_0_to_8.csv\")\n",
    "\n",
    "# Convert mean column to float\n",
    "charity_data['[mean]'] = charity_data['[mean]'].astype(float)\n",
    "\n",
    "charity_data['charity'] = charity_data['charity'].astype(float)\n",
    "\n",
    "print(charity_data.shape)\n",
    "charity_data.head()\n",
    "\n",
    "# Group rows by the \"charity\" parameter and calculate the mean of the \"mean\" column\n",
    "grouped_data = charity_data.groupby('charity')['[mean]'].mean()\n",
    "\n",
    "# print(grouped_data)\n",
    "\n",
    "# Plot the grouped data\n",
    "sns.set()\n",
    "\n",
    "ax = sns.barplot(x=grouped_data.index, y=grouped_data.values)\n",
    "\n",
    "ax.set(xlabel='Charity value (%)', ylabel='Average people under poverty limit') \n",
    "# Show less number on the x-axis\n",
    "ax.xaxis.set_major_locator(plt.MaxNLocator(5))\n"
   ]
  },
  {
   "attachments": {},
   "cell_type": "markdown",
   "metadata": {},
   "source": [
    "As we can see from the graph, the optimal value is around 4 percent."
   ]
  },
  {
   "attachments": {},
   "cell_type": "markdown",
   "metadata": {},
   "source": [
    "### Taxes experiment"
   ]
  },
  {
   "attachments": {},
   "cell_type": "markdown",
   "metadata": {},
   "source": [
    "We now look at the effect of the lower and upper taxes parameters on the relative state treasure.\n",
    "\n",
    "We do not look now at the amount of poor people, because that will be seen on the relative state treasure (the state is punished for the poor people for every tick)."
   ]
  },
  {
   "cell_type": "code",
   "execution_count": 43,
   "metadata": {},
   "outputs": [],
   "source": [
    "from typing import Any\n",
    "\n",
    "\n",
    "def process_tax_experiment(filename: str) -> pd.DataFrame:\n",
    "    \"\"\"\n",
    "    Process the tax experiment data\n",
    "    \"\"\"\n",
    "    taxes_data = process_netlogo_experiment_csv(filename)\n",
    "\n",
    "    # Convert mean column to float\n",
    "    taxes_data[\"[mean]\"] = taxes_data[\"[mean]\"].astype(float)\n",
    "\n",
    "    # Convert taxes' columns to int\n",
    "    taxes_data[\"lower-tax\"] = taxes_data[\"lower-tax\"].astype(int)\n",
    "    taxes_data[\"upper-tax\"] = taxes_data[\"upper-tax\"].astype(int)\n",
    "\n",
    "    return taxes_data\n",
    "\n",
    "\n",
    "def plot_taxes_heatmap(taxes_data: pd.DataFrame) -> Any:\n",
    "    # Group rows by the \"charity\" parameter and calculate the mean of the \"mean\" column\n",
    "    grouped_data = taxes_data.groupby([\"lower-tax\", \"upper-tax\"])[\"[mean]\"].mean()\n",
    "\n",
    "    # Plot the grouped data\n",
    "    sns.set()\n",
    "\n",
    "    return sns.heatmap(grouped_data.unstack())"
   ]
  },
  {
   "cell_type": "code",
   "execution_count": 47,
   "metadata": {},
   "outputs": [
    {
     "name": "stdout",
     "output_type": "stream",
     "text": [
      "(2205, 12)\n"
     ]
    },
    {
     "data": {
      "text/html": [
       "<div>\n",
       "<style scoped>\n",
       "    .dataframe tbody tr th:only-of-type {\n",
       "        vertical-align: middle;\n",
       "    }\n",
       "\n",
       "    .dataframe tbody tr th {\n",
       "        vertical-align: top;\n",
       "    }\n",
       "\n",
       "    .dataframe thead th {\n",
       "        text-align: right;\n",
       "    }\n",
       "</style>\n",
       "<table border=\"1\" class=\"dataframe\">\n",
       "  <thead>\n",
       "    <tr style=\"text-align: right;\">\n",
       "      <th></th>\n",
       "      <th>[run number]</th>\n",
       "      <th>lower-tax</th>\n",
       "      <th>upper-tax</th>\n",
       "      <th>charity</th>\n",
       "      <th>num-people</th>\n",
       "      <th>percent-best-land</th>\n",
       "      <th>[reporter]</th>\n",
       "      <th>[final]</th>\n",
       "      <th>[min]</th>\n",
       "      <th>[max]</th>\n",
       "      <th>[mean]</th>\n",
       "      <th>[steps]</th>\n",
       "    </tr>\n",
       "  </thead>\n",
       "  <tbody>\n",
       "    <tr>\n",
       "      <th>0</th>\n",
       "      <td>1</td>\n",
       "      <td>0</td>\n",
       "      <td>0</td>\n",
       "      <td>2</td>\n",
       "      <td>250</td>\n",
       "      <td>16</td>\n",
       "      <td>relative-state-treasure</td>\n",
       "      <td>-15.352</td>\n",
       "      <td>-15.352</td>\n",
       "      <td>0</td>\n",
       "      <td>-9.234929</td>\n",
       "      <td>5000</td>\n",
       "    </tr>\n",
       "    <tr>\n",
       "      <th>1</th>\n",
       "      <td>2</td>\n",
       "      <td>0</td>\n",
       "      <td>0</td>\n",
       "      <td>2</td>\n",
       "      <td>250</td>\n",
       "      <td>16</td>\n",
       "      <td>relative-state-treasure</td>\n",
       "      <td>-15.164</td>\n",
       "      <td>-15.164</td>\n",
       "      <td>0</td>\n",
       "      <td>-9.763778</td>\n",
       "      <td>5000</td>\n",
       "    </tr>\n",
       "    <tr>\n",
       "      <th>2</th>\n",
       "      <td>3</td>\n",
       "      <td>0</td>\n",
       "      <td>0</td>\n",
       "      <td>2</td>\n",
       "      <td>250</td>\n",
       "      <td>16</td>\n",
       "      <td>relative-state-treasure</td>\n",
       "      <td>-13.232</td>\n",
       "      <td>-13.232</td>\n",
       "      <td>0</td>\n",
       "      <td>-9.033189</td>\n",
       "      <td>5000</td>\n",
       "    </tr>\n",
       "    <tr>\n",
       "      <th>3</th>\n",
       "      <td>4</td>\n",
       "      <td>0</td>\n",
       "      <td>0</td>\n",
       "      <td>2</td>\n",
       "      <td>250</td>\n",
       "      <td>16</td>\n",
       "      <td>relative-state-treasure</td>\n",
       "      <td>-15.272</td>\n",
       "      <td>-15.272</td>\n",
       "      <td>0</td>\n",
       "      <td>-10.386896</td>\n",
       "      <td>5000</td>\n",
       "    </tr>\n",
       "    <tr>\n",
       "      <th>4</th>\n",
       "      <td>5</td>\n",
       "      <td>0</td>\n",
       "      <td>0</td>\n",
       "      <td>2</td>\n",
       "      <td>250</td>\n",
       "      <td>16</td>\n",
       "      <td>relative-state-treasure</td>\n",
       "      <td>-7.972</td>\n",
       "      <td>-7.972</td>\n",
       "      <td>0</td>\n",
       "      <td>-5.695014</td>\n",
       "      <td>5000</td>\n",
       "    </tr>\n",
       "  </tbody>\n",
       "</table>\n",
       "</div>"
      ],
      "text/plain": [
       "0 [run number]  lower-tax  upper-tax charity num-people percent-best-land   \n",
       "0            1          0          0       2        250                16  \\\n",
       "1            2          0          0       2        250                16   \n",
       "2            3          0          0       2        250                16   \n",
       "3            4          0          0       2        250                16   \n",
       "4            5          0          0       2        250                16   \n",
       "\n",
       "0               [reporter]  [final]    [min] [max]     [mean] [steps]  \n",
       "0  relative-state-treasure  -15.352  -15.352     0  -9.234929    5000  \n",
       "1  relative-state-treasure  -15.164  -15.164     0  -9.763778    5000  \n",
       "2  relative-state-treasure  -13.232  -13.232     0  -9.033189    5000  \n",
       "3  relative-state-treasure  -15.272  -15.272     0 -10.386896    5000  \n",
       "4  relative-state-treasure   -7.972   -7.972     0  -5.695014    5000  "
      ]
     },
     "execution_count": 47,
     "metadata": {},
     "output_type": "execute_result"
    }
   ],
   "source": [
    "taxes_data = process_tax_experiment(\"data/experiment_taxes_charity_2.csv\")\n",
    "\n",
    "print(taxes_data.shape)\n",
    "taxes_data.head()"
   ]
  },
  {
   "attachments": {},
   "cell_type": "markdown",
   "metadata": {},
   "source": [
    "We now plot a heatmap with the lower taxes parameter on the x-axis and the upper taxes parameter on the y-axis. The color represents the relative state treasure."
   ]
  },
  {
   "cell_type": "code",
   "execution_count": 48,
   "metadata": {},
   "outputs": [
    {
     "data": {
      "image/png": "[encoded data removed]",
      "text/plain": [
       "<Figure size 640x480 with 2 Axes>"
      ]
     },
     "metadata": {},
     "output_type": "display_data"
    }
   ],
   "source": [
    "ax = plot_taxes_heatmap(taxes_data)"
   ]
  }
 ],
 "metadata": {
  "kernelspec": {
   "display_name": "Python 3",
   "language": "python",
   "name": "python3"
  },
  "language_info": {
   "codemirror_mode": {
    "name": "ipython",
    "version": 3
   },
   "file_extension": ".py",
   "mimetype": "text/x-python",
   "name": "python",
   "nbconvert_exporter": "python",
   "pygments_lexer": "ipython3",
   "version": "3.10.6"
  },
  "orig_nbformat": 4
 },
 "nbformat": 4,
 "nbformat_minor": 2
}
